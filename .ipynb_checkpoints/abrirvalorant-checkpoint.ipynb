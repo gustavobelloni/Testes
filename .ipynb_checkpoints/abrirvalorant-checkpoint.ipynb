{
 "cells": [
  {
   "cell_type": "code",
   "execution_count": null,
   "id": "0dbb9eaf",
   "metadata": {},
   "outputs": [],
   "source": [
    "\n",
    "import pyautogui\n",
    "import pyperclip\n",
    "import time\n",
    "\n",
    "pyautogui.PAUSE = 1\n",
    "\n",
    "\n",
    "pyautogui.click(x=1873, y=135, clicks=2)\n",
    "\n",
    "time.sleep(10)\n",
    "\n",
    "pyautogui.write('belloni100')\n",
    "pyautogui.press('tab')\n",
    "pyperclip.copy('epe-9264')\n",
    "pyautogui.hotkey('ctrl', 'v')\n",
    "pyautogui.press('enter')\n",
    "\n",
    "time.sleep(7)\n",
    "\n",
    "pyautogui.click(x=368, y=904)"
   ]
  },
  {
   "cell_type": "code",
   "execution_count": null,
   "id": "d2bd380a",
   "metadata": {},
   "outputs": [],
   "source": [
    "pyintaller --onefile abrirvalorant.ipynb"
   ]
  }
 ],
 "metadata": {
  "kernelspec": {
   "display_name": "Python 3 (ipykernel)",
   "language": "python",
   "name": "python3"
  },
  "language_info": {
   "codemirror_mode": {
    "name": "ipython",
    "version": 3
   },
   "file_extension": ".py",
   "mimetype": "text/x-python",
   "name": "python",
   "nbconvert_exporter": "python",
   "pygments_lexer": "ipython3",
   "version": "3.9.7"
  }
 },
 "nbformat": 4,
 "nbformat_minor": 5
}
