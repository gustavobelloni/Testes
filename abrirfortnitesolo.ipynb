{
 "cells": [
  {
   "cell_type": "code",
   "execution_count": 5,
   "id": "6b4d9f9e",
   "metadata": {},
   "outputs": [],
   "source": [
    "import time\n",
    "import pyautogui"
   ]
  },
  {
   "cell_type": "code",
   "execution_count": null,
   "id": "d43f2efa",
   "metadata": {},
   "outputs": [],
   "source": [
    "import pyautogui\n",
    "import time\n",
    "\n",
    "pyautogui.PAUSE = 2\n",
    "\n",
    "# Minimizar o google\n",
    "\n",
    "pyautogui.click(x=1804, y=10)\n",
    "\n",
    "# Abrir o Fornite\n",
    "\n",
    "pyautogui.click(x=1860, y=232, clicks=2)\n",
    "\n",
    "time.sleep(70)\n",
    "\n",
    "# Mudar o modo de jogo para solo\n",
    "\n",
    "pyautogui.press('esc')\n",
    "\n",
    "pyautogui.click(x=1270, y=285)\n",
    "pyautogui.click(x=1696, y=640)\n",
    "pyautogui.click(x=476, y=31)\n",
    "pyautogui.click(x=360, y=342)\n",
    "\n",
    "# Clicar em jogar\n",
    "\n",
    "pyautogui.click(x=1699, y=783)\n"
   ]
  },
  {
   "cell_type": "code",
   "execution_count": 9,
   "id": "104b6a7d",
   "metadata": {},
   "outputs": [
    {
     "data": {
      "text/plain": [
       "Point(x=1699, y=783)"
      ]
     },
     "execution_count": 9,
     "metadata": {},
     "output_type": "execute_result"
    }
   ],
   "source": [
    "time.sleep(5)\n",
    "pyautogui.position()"
   ]
  },
  {
   "cell_type": "code",
   "execution_count": null,
   "id": "bc09e12b",
   "metadata": {},
   "outputs": [],
   "source": []
  }
 ],
 "metadata": {
  "kernelspec": {
   "display_name": "Python 3 (ipykernel)",
   "language": "python",
   "name": "python3"
  },
  "language_info": {
   "codemirror_mode": {
    "name": "ipython",
    "version": 3
   },
   "file_extension": ".py",
   "mimetype": "text/x-python",
   "name": "python",
   "nbconvert_exporter": "python",
   "pygments_lexer": "ipython3",
   "version": "3.9.7"
  }
 },
 "nbformat": 4,
 "nbformat_minor": 5
}
